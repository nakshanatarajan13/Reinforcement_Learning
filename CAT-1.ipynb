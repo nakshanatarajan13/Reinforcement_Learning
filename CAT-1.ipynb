{
 "cells": [
  {
   "cell_type": "code",
   "execution_count": 1,
   "id": "9e619ffb",
   "metadata": {},
   "outputs": [],
   "source": [
    "import numpy as np\n",
    "import matplotlib.pyplot as plt"
   ]
  },
  {
   "cell_type": "code",
   "execution_count": 5,
   "id": "3f4a2faa",
   "metadata": {},
   "outputs": [],
   "source": [
    "# Setting up the K-armed bandit environment\n",
    "class KArmBandit:\n",
    "    def __init__(self, k=10, epsilon=0.1):\n",
    "        \"\"\"\n",
    "        Initialize the K-arm bandit system with specified epsilon and number of arms (articles).\n",
    "        k: Number of arms (articles).\n",
    "        epsilon: Probability of exploration vs exploitation.\n",
    "        \"\"\"\n",
    "        self.k = k\n",
    "        self.epsilon = epsilon\n",
    "        self.article_views = np.zeros(k)  # Count views for each article (reward)\n",
    "        self.article_pulls = np.zeros(k)  # Count how many times each article was promoted\n",
    "        self.total_views = 0              # Track total views across all articles\n",
    "\n",
    "    def choose_article(self):\n",
    "        \"\"\"\n",
    "        Use epsilon-greedy to select an article to promote.\n",
    "        Returns:\n",
    "            (int) The chosen article index\n",
    "        \"\"\"\n",
    "        if np.random.rand() < self.epsilon:\n",
    "            # Exploration: randomly pick an article\n",
    "            return np.random.randint(0, self.k)\n",
    "        else:\n",
    "            # Exploitation: choose the article with the highest average views\n",
    "            avg_views = self.article_views / (self.article_pulls + 1e-5)  # Avoid divide by zero\n",
    "            return np.argmax(avg_views)\n",
    "\n",
    "    def update_views(self, article, views):\n",
    "        \"\"\"\n",
    "        Update the reward (views) for the chosen article after promotion.\n",
    "        article: The index of the chosen article.\n",
    "        views: The views gained by promoting this article.\n",
    "        \"\"\"\n",
    "        self.article_pulls[article] += 1  # Increment promotion count\n",
    "        self.article_views[article] += views  # Update total views for this article\n",
    "        self.total_views += views          # Update total view count\n",
    "\n",
    "    def simulate_promotion(self, rounds=1000, true_mean_views=None):\n",
    "        \"\"\"\n",
    "        Simulate the promotion process over a given number of rounds.\n",
    "        rounds: Number of promotion rounds to simulate.\n",
    "        true_mean_views: List of mean view values for each article (reward distribution).\n",
    "        \"\"\"\n",
    "        if true_mean_views is None:\n",
    "            # Randomly generate true mean views for each article\n",
    "            true_mean_views = np.random.randint(50, 500, size=self.k)\n",
    "        \n",
    "        views_history = []  # Track total views over time\n",
    "\n",
    "        for _ in range(rounds):\n",
    "            article = self.choose_article()               # Choose article to promote\n",
    "            views = np.random.poisson(true_mean_views[article])  # Simulate views as Poisson\n",
    "            self.update_views(article, views)             # Update views for chosen article\n",
    "            views_history.append(self.total_views)        # Record total views so far\n",
    "\n",
    "        return views_history, true_mean_views\n",
    "\n"
   ]
  },
  {
   "cell_type": "code",
   "execution_count": 6,
   "id": "22cbfc19",
   "metadata": {},
   "outputs": [],
   "source": [
    "# Set parameters for the K-armed bandit\n",
    "k = 10  # Number of articles\n",
    "epsilon = 0.1  # Probability of exploring new articles\n",
    "rounds = 1000  # Number of promotion rounds\n",
    "\n",
    "# Instantiate the K-armed bandit system\n",
    "bandit = KArmBandit(k=k, epsilon=epsilon)\n"
   ]
  },
  {
   "cell_type": "code",
   "execution_count": 7,
   "id": "e8776109",
   "metadata": {},
   "outputs": [],
   "source": [
    "# Simulate the promotion of articles and track total views over time\n",
    "views_history, true_mean_views = bandit.simulate_promotion(rounds=rounds)\n"
   ]
  },
  {
   "cell_type": "code",
   "execution_count": 8,
   "id": "7a3e8d68",
   "metadata": {},
   "outputs": [
    {
     "data": {
      "image/png": "[encoded data removed]",
      "text/plain": [
       "<Figure size 720x432 with 1 Axes>"
      ]
     },
     "metadata": {
      "needs_background": "light"
     },
     "output_type": "display_data"
    }
   ],
   "source": [
    "# Plot total views over time\n",
    "plt.figure(figsize=(10, 6))\n",
    "plt.plot(views_history)\n",
    "plt.xlabel(\"Rounds\")\n",
    "plt.ylabel(\"Total Views\")\n",
    "plt.title(\"Total Views Over Time with Epsilon-Greedy Strategy\")\n",
    "plt.show()\n"
   ]
  },
  {
   "cell_type": "code",
   "execution_count": 9,
   "id": "9d39b95f",
   "metadata": {},
   "outputs": [
    {
     "name": "stdout",
     "output_type": "stream",
     "text": [
      "True Mean Views per Article: [492 281 201 158 128 325 208 445 154 204]\n",
      "Estimated Average Views per Article: [493.28100446 281.999718   204.16632639 160.71405612 131.15374527\n",
      " 326.14239123 206.90890281 443.999556   153.11102605 202.99971   ]\n"
     ]
    }
   ],
   "source": [
    "# Display true mean views and estimated average views per article\n",
    "print(\"True Mean Views per Article:\", true_mean_views)\n",
    "print(\"Estimated Average Views per Article:\", bandit.article_views / (bandit.article_pulls + 1e-5))\n"
   ]
  },
  {
   "cell_type": "code",
   "execution_count": null,
   "id": "10da86db",
   "metadata": {},
   "outputs": [],
   "source": []
  }
 ],
 "metadata": {
  "kernelspec": {
   "display_name": "Python 3 (ipykernel)",
   "language": "python",
   "name": "python3"
  },
  "language_info": {
   "codemirror_mode": {
    "name": "ipython",
    "version": 3
   },
   "file_extension": ".py",
   "mimetype": "text/x-python",
   "name": "python",
   "nbconvert_exporter": "python",
   "pygments_lexer": "ipython3",
   "version": "3.9.7"
  }
 },
 "nbformat": 4,
 "nbformat_minor": 5
}
